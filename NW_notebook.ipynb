{
 "cells": [
  {
   "cell_type": "code",
   "execution_count": 1,
   "id": "9ff28c1c",
   "metadata": {},
   "outputs": [],
   "source": [
    "from utils import *"
   ]
  },
  {
   "cell_type": "code",
   "execution_count": 2,
   "id": "746fad8b",
   "metadata": {},
   "outputs": [
    {
     "name": "stdout",
     "output_type": "stream",
     "text": [
      "Class of Nidleman Vunsh algorithm\n"
     ]
    }
   ],
   "source": [
    "nv = NidlemanVunshAlgo()\n",
    "print(nv)"
   ]
  },
  {
   "cell_type": "code",
   "execution_count": 3,
   "id": "ad4c8079",
   "metadata": {},
   "outputs": [
    {
     "name": "stderr",
     "output_type": "stream",
     "text": [
      "C:\\Users\\gurpa\\work\\utils.py:371: TqdmExperimentalWarning: GUI is experimental/alpha\n",
      "  self.pbar = tqdm(tk_parent=self.window)\n",
      "Exception in thread Thread-5:\n",
      "Traceback (most recent call last):\n",
      "  File \"C:\\Users\\gurpa\\anaconda3\\lib\\threading.py\", line 980, in _bootstrap_inner\n",
      "    self.run()\n",
      "  File \"C:\\Users\\gurpa\\anaconda3\\lib\\site-packages\\tqdm\\_monitor.py\", line 84, in run\n",
      "    instance.refresh(nolock=True)\n",
      "  File \"C:\\Users\\gurpa\\anaconda3\\lib\\site-packages\\tqdm\\std.py\", line 1361, in refresh\n",
      "    self.display()\n",
      "  File \"C:\\Users\\gurpa\\anaconda3\\lib\\site-packages\\tqdm\\tk.py\", line 139, in display\n",
      "    self._tk_n_var.set(self.n)\n",
      "  File \"C:\\Users\\gurpa\\anaconda3\\lib\\tkinter\\__init__.py\", line 377, in set\n",
      "    return self._tk.globalsetvar(self._name, value)\n",
      "RuntimeError: main thread is not in main loop\n"
     ]
    }
   ],
   "source": [
    "app = App()\n",
    "app.mainloop()\n",
    "app.main()"
   ]
  },
  {
   "cell_type": "code",
   "execution_count": 5,
   "id": "b3b9d359",
   "metadata": {},
   "outputs": [],
   "source": [
    "matrix_path = app.matrix_path"
   ]
  },
  {
   "cell_type": "code",
   "execution_count": 6,
   "id": "5c24fa2c",
   "metadata": {},
   "outputs": [],
   "source": [
    "import pickle as pkl\n",
    "\n",
    "with open(matrix_path, 'rb') as f:\n",
    "    matr = pkl.load(f)"
   ]
  },
  {
   "cell_type": "code",
   "execution_count": 9,
   "id": "af9e71b5",
   "metadata": {},
   "outputs": [
    {
     "data": {
      "text/plain": [
       "array([[ 0,  2,  4,  6,  8, 10, 12, 14, 16, 18, 20, 22, 24, 26, 28],\n",
       "       [ 2,  3,  1,  3,  5,  7,  9, 11, 13, 15, 17, 19, 21, 23, 25],\n",
       "       [ 4,  5,  2,  4,  6,  4,  6,  8, 10, 12, 14, 16, 18, 20, 22],\n",
       "       [ 6,  7,  4,  5,  7,  5,  3,  5,  7,  9, 11, 13, 15, 17, 19],\n",
       "       [ 8,  9,  6,  7,  8,  7,  5,  6,  8, 10, 12, 14, 16, 18, 20],\n",
       "       [10, 11,  8,  9, 10,  7,  6,  8,  9, 11, 13, 11, 13, 15, 17],\n",
       "       [12, 13, 10, 11, 12,  9,  8,  9, 11, 12, 14, 13, 14, 16, 18],\n",
       "       [14, 15, 12, 13, 14, 11,  8, 10, 12, 14, 15, 13, 15, 13, 15],\n",
       "       [16, 17, 14, 15, 16, 13, 10, 11, 13, 15, 17, 15, 16, 15, 16],\n",
       "       [18, 19, 16, 13, 15, 15, 12, 13, 14, 12, 14, 16, 18, 17, 18],\n",
       "       [20, 17, 18, 15, 12, 14, 14, 11, 12, 14, 11, 13, 15, 17, 16],\n",
       "       [22, 19, 16, 17, 14, 11, 13, 13, 14, 15, 13, 10, 12, 14, 16],\n",
       "       [24, 21, 18, 19, 16, 13, 14, 12, 12, 14, 14, 12,  9, 11, 13]])"
      ]
     },
     "execution_count": 9,
     "metadata": {},
     "output_type": "execute_result"
    }
   ],
   "source": [
    "import numpy as np\n",
    "\n",
    "np.array(matr[0])"
   ]
  },
  {
   "cell_type": "code",
   "execution_count": 10,
   "id": "5ed0a5f7",
   "metadata": {},
   "outputs": [
    {
     "data": {
      "text/plain": [
       "('AAADADADSFAF', 'FASFAAFFSFAFAF')"
      ]
     },
     "execution_count": 10,
     "metadata": {},
     "output_type": "execute_result"
    }
   ],
   "source": [
    "matr[1], matr[2]"
   ]
  },
  {
   "cell_type": "code",
   "execution_count": null,
   "id": "50892055",
   "metadata": {},
   "outputs": [],
   "source": []
  }
 ],
 "metadata": {
  "kernelspec": {
   "display_name": "Python 3 (ipykernel)",
   "language": "python",
   "name": "python3"
  },
  "language_info": {
   "codemirror_mode": {
    "name": "ipython",
    "version": 3
   },
   "file_extension": ".py",
   "mimetype": "text/x-python",
   "name": "python",
   "nbconvert_exporter": "python",
   "pygments_lexer": "ipython3",
   "version": "3.9.13"
  }
 },
 "nbformat": 4,
 "nbformat_minor": 5
}
