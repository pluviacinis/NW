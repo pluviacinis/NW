{
 "cells": [
  {
   "cell_type": "code",
   "execution_count": 2,
   "id": "2628f20c",
   "metadata": {},
   "outputs": [],
   "source": [
    "from utils import *"
   ]
  },
  {
   "cell_type": "code",
   "execution_count": 3,
   "id": "5d44d728",
   "metadata": {},
   "outputs": [
    {
     "name": "stderr",
     "output_type": "stream",
     "text": [
      "C:\\Users\\honor\\project\\utils.py:372: TqdmExperimentalWarning: GUI is experimental/alpha\n",
      "  self.pbar = tqdm(tk_parent=self.window)\n",
      "Exception in thread Thread-5:\n",
      "Traceback (most recent call last):\n",
      "  File \"C:\\Users\\honor\\AppData\\Local\\Programs\\Python\\Python39\\lib\\threading.py\", line 973, in _bootstrap_inner\n",
      "    self.run()\n",
      "  File \"C:\\Users\\honor\\AppData\\Local\\Programs\\Python\\Python39\\lib\\site-packages\\tqdm\\_monitor.py\", line 84, in run\n",
      "    instance.refresh(nolock=True)\n",
      "  File \"C:\\Users\\honor\\AppData\\Local\\Programs\\Python\\Python39\\lib\\site-packages\\tqdm\\std.py\", line 1348, in refresh\n",
      "    self.display()\n",
      "  File \"C:\\Users\\honor\\AppData\\Local\\Programs\\Python\\Python39\\lib\\site-packages\\tqdm\\tk.py\", line 131, in display\n",
      "    self._tk_n_var.set(self.n)\n",
      "  File \"C:\\Users\\honor\\AppData\\Local\\Programs\\Python\\Python39\\lib\\tkinter\\__init__.py\", line 377, in set\n",
      "    return self._tk.globalsetvar(self._name, value)\n",
      "RuntimeError: main thread is not in main loop\n"
     ]
    }
   ],
   "source": [
    "if __name__ == \"__main__\":\n",
    "    app = App()\n",
    "    app.mainloop()\n",
    "    app.main()"
   ]
  },
  {
   "cell_type": "code",
   "execution_count": null,
   "id": "0438ad39",
   "metadata": {},
   "outputs": [],
   "source": []
  }
 ],
 "metadata": {
  "kernelspec": {
   "display_name": "Python 3 (ipykernel)",
   "language": "python",
   "name": "python3"
  },
  "language_info": {
   "codemirror_mode": {
    "name": "ipython",
    "version": 3
   },
   "file_extension": ".py",
   "mimetype": "text/x-python",
   "name": "python",
   "nbconvert_exporter": "python",
   "pygments_lexer": "ipython3",
   "version": "3.9.7"
  }
 },
 "nbformat": 4,
 "nbformat_minor": 5
}
